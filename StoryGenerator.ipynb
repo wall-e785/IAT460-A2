{
  "nbformat": 4,
  "nbformat_minor": 0,
  "metadata": {
    "colab": {
      "provenance": [],
      "authorship_tag": "ABX9TyPQDTL/nl4gx3F0aYwavgPI",
      "include_colab_link": true
    },
    "kernelspec": {
      "name": "python3",
      "display_name": "Python 3"
    },
    "language_info": {
      "name": "python"
    }
  },
  "cells": [
    {
      "cell_type": "markdown",
      "metadata": {
        "id": "view-in-github",
        "colab_type": "text"
      },
      "source": [
        "<a href=\"https://colab.research.google.com/github/wall-e785/IAT460-A2/blob/main/StoryGenerator.ipynb\" target=\"_parent\"><img src=\"https://colab.research.google.com/assets/colab-badge.svg\" alt=\"Open In Colab\"/></a>"
      ]
    },
    {
      "cell_type": "markdown",
      "source": [
        "#Romance Story Generator\n",
        "\n",
        "This rule-based system generates a short (~100 words) three-act love story using generative grammar rulesets and Markov models. The main structure follows a setup, confrontation, and resolution.\n",
        "\n",
        "**Example Story:**\n",
        "\n",
        "Once upon a time there was a prince who fell in love with a princess.\n",
        "However, the prince could not meet the princess as she was locked in a tower.\n",
        "\n",
        "One day, the prince decided to try to request the princess. He rode his horse and headed to the tower.\n",
        "Once he arrived, he exclaimed \"Princess, please let me in!\"\n",
        "The princess replied \"I cannot, I am trapped by the evil witch.\"\n",
        "\n",
        "The witch then appeared and said \"You can't save her you fool!\"\n",
        "The prince was able to defeat the witch.\n",
        "\n",
        "The princess was saved and they lived happily ever after.\n"
      ],
      "metadata": {
        "id": "7vsKJC0qf5Kf"
      }
    },
    {
      "cell_type": "code",
      "source": [
        "#import libraries\n",
        "import random"
      ],
      "metadata": {
        "id": "dzBrKLCkiwFn"
      },
      "execution_count": 1,
      "outputs": []
    },
    {
      "cell_type": "code",
      "execution_count": null,
      "metadata": {
        "id": "x-lS11kO7g5T"
      },
      "outputs": [],
      "source": [
        "\n",
        "# Define our basic grammar\n",
        "basic_grammar = {\n",
        "    #set of non-terminal symbols - symbols can be replaced\n",
        "    'S': [['NP', 'VP']],\n",
        "    'NP': [['Det', 'N'], ['Det', 'Adj', 'N']],\n",
        "    'VP': [['V', 'NP'], ['V']],\n",
        "    'Det': ['the', 'a', 'my'],\n",
        "\n",
        "    #terminal symbols - no further expansion can go on\n",
        "    'N': ['cat', 'dog', 'robot', 'programmer'],\n",
        "    'V': ['sleeps', 'jumps', 'codes', 'runs'],\n",
        "    'Adj': ['quick', 'lazy', 'clever', 'brave']\n",
        "}\n",
        "\n",
        "def generate(symbol, grammar):\n",
        "    \"\"\"\n",
        "    Recursively generate a string from the grammar starting with the given symbol.\n",
        "\n",
        "    Args:\n",
        "        symbol: The symbol to start generating from\n",
        "\n",
        "    Returns:\n",
        "        A string generated from the grammar rules\n",
        "    \"\"\"\n",
        "    if isinstance(symbol, str) and symbol in grammar:\n",
        "        production = random.choice(grammar[symbol])\n",
        "        if isinstance(production, list):\n",
        "            return ' '.join(generate(sym, grammar) for sym in production)\n",
        "        return production\n",
        "    return symbol"
      ]
    },
    {
      "cell_type": "code",
      "source": [
        "#start by choosing the names of characters randomly to be saved\n",
        "protag_list = ['prince', 'dreamer', 'librarian', 'widow', 'artist', 'student', 'healer', 'chef', 'musician', 'architect', 'photographer', 'writer', 'runner', 'scientist', 'gardener', 'nurse', 'poet', 'detective', 'lawyer', 'teacher']\n",
        "protagonist = random.choice(protag_list)\n",
        "\n",
        "antag_list = ['Witch', 'Step-Mother', 'Theif', 'Monster']\n",
        "antagonist = random.choice(antag_list)\n",
        "\n",
        "interest_list = ['Prince', 'Princess', 'Knight']\n",
        "love_interest = random.choice(interest_list)\n",
        "\n",
        "#choose the main setting\n",
        "setting_list = ['castle', 'village', 'city']\n",
        "setting = random.choice(setting_list)\n",
        "\n",
        "#choose the main conflict\n",
        "conflict_list = ['battle', 'race', 'woo', 'cheat']\n",
        "conflict = random.choice(conflict_list)\n",
        "\n",
        "#grammar for starting sentence\n",
        "starting_grammar = {\n",
        "    #non-terminal symbols\n",
        "    'S': [['IS', 'NP', 'VP', 'NP_TWO']],\n",
        "    'NP': [['Det', protagonist], ['Det', 'Adj', protagonist]],\n",
        "    'VP': [['V_ONE', 'P', 'a', setting]],\n",
        "    'NP_TWO': [['V_TWO', 'LOC_NAMES']],\n",
        "\n",
        "    #terminal symbols\n",
        "    'IS': ['Once upon a time,', 'A long, long time ago,', 'Far far away,', 'A few years ago,'], #preset intro sentences to start the story with\n",
        "    'Det': ['the', 'a'],\n",
        "    'Adj': ['good-looking', 'brave', 'wise', 'timid'],\n",
        "    'P': ['in', 'at'],\n",
        "    'V_ONE': ['lived', 'resided', 'stayed'],\n",
        "    'V_TWO': ['called', 'named'],\n",
        "    'LOC_NAMES': ['Rosebrook', 'Silverwood', 'Amberfield', 'Elderstone', 'Whispering Pines', 'Maple Haven', 'Crystal Falls', 'Havenridge', 'Bridlewood', 'Lavender Creek', 'Moonstone Bay', 'Willowbrook', 'Golden Oaks', 'Thornfield', 'Bluebell Hollow', 'Winter\\'s Edge', 'Sunset Valley', 'Pinehill', 'Silverstone Cove', 'Cedar Ridge', 'Hollyview', 'Morningstar Ridge', 'Brookshire', 'Seabreeze Cove', 'Starling Springs', 'Sable Creek']\n",
        "}\n",
        "\n",
        "#grammar for introducing the villian\n",
        "villian_intro_grammar = {\n",
        "    #non-terminal symbols\n",
        "}\n"
      ],
      "metadata": {
        "id": "FcEZLqP9iuaF"
      },
      "execution_count": 58,
      "outputs": []
    },
    {
      "cell_type": "code",
      "source": [
        "#Generate function referenced from week 3 lab\n",
        "def generate(symbol, grammar):\n",
        "    \"\"\"\n",
        "    Recursively generate a string from the grammar starting with the given symbol.\n",
        "\n",
        "    Args:\n",
        "        symbol: The symbol to start generating from\n",
        "\n",
        "    Returns:\n",
        "        A string generated from the grammar rules\n",
        "    \"\"\"\n",
        "    if isinstance(symbol, str) and symbol in grammar:\n",
        "        production = random.choice(grammar[symbol])\n",
        "        if isinstance(production, list):\n",
        "            return ' '.join(generate(sym, grammar) for sym in production)\n",
        "        return production\n",
        "    return symbol"
      ],
      "metadata": {
        "id": "Xsw41Z5ewM0J"
      },
      "execution_count": 57,
      "outputs": []
    },
    {
      "cell_type": "code",
      "source": [
        "print(\"Generated sentences:\\n\")\n",
        "for i in range(5):\n",
        "    print(f\"{i+1}. {generate('S', starting_grammar)}.\")"
      ],
      "metadata": {
        "id": "FMTlHPCWmvtf",
        "outputId": "c798bdf8-375f-4d40-ab13-02b6dffae9dc",
        "colab": {
          "base_uri": "https://localhost:8080/"
        }
      },
      "execution_count": 56,
      "outputs": [
        {
          "output_type": "stream",
          "name": "stdout",
          "text": [
            "Generated sentences:\n",
            "\n",
            "1. A few years ago, the wise runner resided in a city named Thornfield.\n",
            "2. Once upon a time, the runner resided at a city called Maple Haven.\n",
            "3. A few years ago, the timid runner stayed at a city named Bridlewood.\n",
            "4. A long, long time ago, a brave runner resided in a city named Moonstone Bay.\n",
            "5. A few years ago, a brave runner lived in a city named Thornfield.\n"
          ]
        }
      ]
    },
    {
      "cell_type": "markdown",
      "source": [
        "References:\n",
        "\n",
        "Can you generate a list of 20 short story characters? They should be general words in lowercase with one title only, and the genre is romance. Additionally, format them into comma separated values, and surround each name with apostrophe characters.\n",
        "\n",
        "Sure! Here's a list of 20 romance-themed short story characters in the format you requested:\n",
        "\n",
        "'title', 'dreamer', 'librarian', 'widow', 'artist', 'student', 'healer', 'chef', 'musician', 'architect', 'photographer', 'writer', 'runner', 'scientist', 'gardener', 'nurse', 'poet', 'detective', 'lawyer', 'teacher'\n",
        "\n",
        "Each name is surrounded by apostrophes and formatted as comma-separated values. Let me know if you need any changes!\n",
        "\n",
        "2025-02-04\n",
        "\n",
        "can you generate a list of fake town names? they should be formatted in comma-separated values, with apostrophes surrounding each word. This is for a romance short story.\n",
        "\n",
        "Sure! Here's a list of fictional town names formatted in CSV style with apostrophes:\n",
        "\n",
        "'Rosebrook', 'Silverwood', 'Amberfield', 'Elderstone', 'Whispering Pines', 'Maple Haven', 'Crystal Falls', 'Havenridge', 'Bridlewood', 'Lavender Creek', 'Moonstone Bay', 'Willowbrook', 'Golden Oaks', 'Thornfield', 'Bluebell Hollow', 'Winter's Edge', 'Sunset Valley', 'Pinehill', 'Silverstone Cove', 'Cedar Ridge', 'Hollyview', 'Morningstar Ridge', 'Brookshire', 'Seabreeze Cove', 'Starling Springs', 'Sable Creek'\n",
        "\n",
        "These names should work well for a romance story, giving off a cozy and mysterious vibe. Let me know if you need any other variations!\n",
        "\n",
        "2025-02-04"
      ],
      "metadata": {
        "id": "_H3bZVnJruM2"
      }
    },
    {
      "cell_type": "markdown",
      "source": [],
      "metadata": {
        "id": "gn5ernytun7p"
      }
    }
  ]
}