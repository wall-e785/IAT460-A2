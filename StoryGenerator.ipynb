{
  "nbformat": 4,
  "nbformat_minor": 0,
  "metadata": {
    "colab": {
      "provenance": [],
      "authorship_tag": "ABX9TyOIHyGSTNSgQtL50E+s1pKL",
      "include_colab_link": true
    },
    "kernelspec": {
      "name": "python3",
      "display_name": "Python 3"
    },
    "language_info": {
      "name": "python"
    }
  },
  "cells": [
    {
      "cell_type": "markdown",
      "metadata": {
        "id": "view-in-github",
        "colab_type": "text"
      },
      "source": [
        "<a href=\"https://colab.research.google.com/github/wall-e785/IAT460-A2/blob/main/StoryGenerator.ipynb\" target=\"_parent\"><img src=\"https://colab.research.google.com/assets/colab-badge.svg\" alt=\"Open In Colab\"/></a>"
      ]
    },
    {
      "cell_type": "markdown",
      "source": [
        "#Romance Story Generator\n",
        "\n",
        "This rule-based system generates a short (~100 words) three-act love story using generative grammar rulesets and Markov models. The main structure follows a setup, confrontation, and resolution.\n",
        "\n",
        "**To run this generator, please run each code block in order. To generate new stories, re-run section 3.1. If you want more variance by updating the pre-set variables, re-run section 1.2 before re-running section 3.1**\n",
        "\n",
        "**Example Story:**\n",
        "\n",
        "Once upon a time there was a prince who fell in love with a princess.\n",
        "However, the prince could not meet the princess as she was locked in a tower.\n",
        "\n",
        "One day, the prince decided to try to request the princess. He rode his horse and headed to the tower.\n",
        "Once he arrived, he exclaimed \"Princess, please let me in!\"\n",
        "The princess replied \"I cannot, I am trapped by the evil witch.\"\n",
        "\n",
        "The witch then appeared and said \"You can't save her you fool!\"\n",
        "The prince was able to defeat the witch.\n",
        "\n",
        "The princess was saved and they lived happily ever after.\n"
      ],
      "metadata": {
        "id": "7vsKJC0qf5Kf"
      }
    },
    {
      "cell_type": "markdown",
      "source": [
        "#Section 1: Set-Up"
      ],
      "metadata": {
        "id": "3KSBA7Hw5Nd-"
      }
    },
    {
      "cell_type": "markdown",
      "source": [
        "1.1 Import Libraries"
      ],
      "metadata": {
        "id": "uqcYTw225c6X"
      }
    },
    {
      "cell_type": "code",
      "source": [
        "#import libraries\n",
        "import random"
      ],
      "metadata": {
        "id": "dzBrKLCkiwFn"
      },
      "execution_count": 1,
      "outputs": []
    },
    {
      "cell_type": "markdown",
      "source": [
        "1.2 Randomly Select Pre-Set Variables\n",
        "\n",
        "Re-run this section later on for different characters, settings, and conflicts for the generator."
      ],
      "metadata": {
        "id": "C7osEpYp5eY6"
      }
    },
    {
      "cell_type": "code",
      "source": [
        "#start by choosing the names of characters randomly to be saved\n",
        "protag_list = ['noble', 'dreamer', 'librarian', 'widow', 'artist', 'student', 'healer', 'chef', 'musician', 'architect', 'photographer', 'writer', 'runner', 'scientist', 'gardener', 'nurse', 'poet', 'detective', 'lawyer', 'teacher']\n",
        "protagonist = random.choice(protag_list)\n",
        "\n",
        "antag_list = ['witch', 'maven', 'monster', 'rebel', 'tycoon', 'baron', 'strategist', 'conqueror', 'puppetmaster', 'oracle', 'outlaw', 'schemer', 'enforcer', 'sovereign', 'evil queen', 'evil king', 'duelist', 'phantom', 'diplomat']\n",
        "antagonist = random.choice(antag_list)\n",
        "\n",
        "interest_list = ['prince', 'princess', 'healer', 'dreamer', 'wanderer', 'bard', 'jester', 'scribe', 'captain', 'alchemist', 'nomad', 'mystic', 'guardian', 'orphan', 'illusionist', 'tinker', 'hermit', 'sailmistress', 'emissary', 'starcatcher', 'seraph']\n",
        "love_interest = random.choice(interest_list)\n",
        "\n",
        "#choose the main setting\n",
        "setting_list = ['castle', 'village', 'city']\n",
        "setting = random.choice(setting_list)\n",
        "\n",
        "#choose the main conflict\n",
        "conflict_list = ['kidnapping', 'poisoning', 'married_off']\n",
        "conflict = random.choice(conflict_list)\n",
        "\n",
        "resolution_list = ['battle', 'redemption', 'exiled']\n",
        "resolution = random.choice(resolution_list)\n"
      ],
      "metadata": {
        "id": "mgxu8b_B5js5"
      },
      "execution_count": 77,
      "outputs": []
    },
    {
      "cell_type": "markdown",
      "source": [
        "#Section 2: Grammar Set-Up"
      ],
      "metadata": {
        "id": "R8_rP0_K5lVo"
      }
    },
    {
      "cell_type": "markdown",
      "source": [
        "2.1 Setup, Act-One Grammar"
      ],
      "metadata": {
        "id": "7jGuY31A5o2L"
      }
    },
    {
      "cell_type": "code",
      "source": [
        "#grammar for starting sentence\n",
        "starting_grammar = {\n",
        "    #non-terminal symbols\n",
        "    'S': [['IP', 'NP', 'VP', 'NP_TWO', 'LS']],\n",
        "    'LS': [['The', protagonist, 'V_LOVE', 'the', 'Adj_LOVE', love_interest], ['The', protagonist, 'was in', 'V_LOVE_TWO', 'the', 'Adj_LOVE', love_interest]],#love interst introduction sentence\n",
        "    'NP': [['Det', protagonist], ['Det', 'Adj', protagonist]],\n",
        "    'VP': [['V_ONE', 'P', 'a', setting]],\n",
        "    'NP_TWO': [['V_TWO', 'LOC_NAMES']],\n",
        "\n",
        "    #terminal symbols\n",
        "    'IP': ['Once upon a time,', 'A long, long time ago,', 'Far far away,', 'A few years ago,'], #intro phrases to start the story with\n",
        "    'Det': ['the', 'a'],\n",
        "    'Adj': ['good-looking', 'brave', 'wise', 'timid'],\n",
        "    'Adj_LOVE': ['beautiful', 'dashing', 'fair', 'stunning', 'striking'],\n",
        "    'P': ['in', 'at'],\n",
        "    'V_ONE': ['lived', 'resided', 'stayed'],\n",
        "    'V_TWO': ['called', 'named'],\n",
        "    'V_LOVE': ['loved', 'fancied', 'wanted', 'desired', 'crushed on'],\n",
        "    'V_LOVE_TWO': ['love with', 'lust with', 'heaven with'],\n",
        "    'LOC_NAMES': ['Rosebrook.', 'Silverwood.', 'Amberfield.', 'Elderstone.', 'Whispering Pines.', 'Maple Haven.', 'Crystal Falls.', 'Havenridge.', 'Bridlewood.', 'Lavender Creek.', 'Moonstone Bay.', 'Willowbrook.', 'Golden Oaks.', 'Thornfield.', 'Bluebell Hollow.', 'Winter\\'s Edge.', 'Sunset Valley.', 'Pinehill.', 'Silverstone Cove.', 'Cedar Ridge.', 'Hollyview.', 'Morningstar Ridge.', 'Brookshire.', 'Seabreeze Cove.', 'Starling Springs.', 'Sable Creek.']\n",
        "}\n",
        "\n",
        "#grammar for introducing the villian\n",
        "villian_intro_grammar = {\n",
        "    #non-terminal symbols\n",
        "    'S': [['Det_Cap', 'AA', antagonist, 'V_ONE', 'NEAR', 'RELATIONSHIP'], ['Det_Cap', 'AA', antagonist, 'V_ONE', 'FAR', 'RELATIONSHIP']],\n",
        "    'NEAR': [['P', 'the', setting, 'too,']], #if the antagonist lives nearby\n",
        "    'FAR': [['P', 'a', 'ANTAG_HOME', 'ANTAG_DISTANCE']], #if the antagonist lives far away\n",
        "    'RELATIONSHIP': [['KNOWN'], ['UNKNOWN']], #determine the relationship of antag to protag\n",
        "    'KNOWN': [['FREQUENCY', 'Adj_ONE', 'the', protagonist]], #if the antagonist is known to the protagonist\n",
        "    'UNKNOWN': [['FREQUENCY', 'Adj_TWO', 'N', 'V_TWO', protagonist]], #if the antagonist is unknown to the protagonist\n",
        "\n",
        "    #terminal symbols\n",
        "    'Det_Cap': ['The', 'A'], #capital letter dets\n",
        "    'AA': ['ugly', 'evil', 'scary'], #antagonist adjectives\n",
        "    'V_ONE': ['lived', 'resided', 'stayed'],\n",
        "    'P': ['in', 'at'],\n",
        "    'ANTAG_HOME': ['cave', 'castle', 'burrow'],\n",
        "    'ANTAG_DISTANCE': ['far away', 'nearby', 'down the hill', 'up the mountain', 'in the valley'],\n",
        "    'FREQUENCY': ['often', 'occasionally', 'frequently'],\n",
        "    'Adj_ONE': ['stalking', 'bothering', 'annoying'],\n",
        "    'Adj_TWO': ['plotting', 'brainstorming', 'planning'],\n",
        "    'N': ['ways to', 'means to', 'methods to'],\n",
        "    'V_TWO': ['terrorize the', 'harm the']\n",
        "}\n",
        "\n",
        "#grammar set-up for conflict\n",
        "conflict_intro_grammar = {\n",
        "    #non-terminal symbols\n",
        "    'S': [['The', protagonist, 'CONFLICT']],\n",
        "    'CONFLICT': ['KIDNAP', 'POISON', 'MARRIED'],\n",
        "    'KIDNAP': [['VP', 'who', 'Adj_KIDNAP', 'Pronoun']],\n",
        "    'POISON': [['VP', 'who', 'Adj_POISON', 'Pronoun', 'with a', 'V_POISON', 'POISON_ITEM'], ['VP', 'who used a', 'V_POISON', 'POISON_ITEM', 'to', 'AdV_POISON', 'the', love_interest]],\n",
        "    'MARRIED': [['VP', 'who was', 'Adj_MARRIED', 'to the', love_interest]],\n",
        "    'VP': [['V_UNABLE', 'have', 'the', love_interest, 'Det', 'the', antagonist + ','], ['Adj_CHASE', 'the', love_interest, 'but', 'Adj_FAIL', 'Det', 'the', antagonist + ',']],\n",
        "\n",
        "    #terminal symbols\n",
        "    'V_UNABLE': ['couldn\\'t', 'didn\\'t'],\n",
        "    'Adj_CHASE': ['chased', 'pursued', 'wooed', 'missed'],\n",
        "    'Det': ['because of', 'due to', 'at the hands of'],\n",
        "    'Adj_FAIL': ['failed to', 'struggled to', 'was unable to'],\n",
        "    'Adj_KIDNAP': ['kidnapped', 'stole', 'abducted', 'took away', 'hid away'],\n",
        "    'AdV_POISON': ['poison', 'infect'],\n",
        "    'Adj_POISON': ['poisoned', 'infected'],\n",
        "    'Adj_MARRIED': ['married', 'engaged', 'commited'],\n",
        "    'Pronoun': ['him', 'her', 'them'],\n",
        "    'V_POISON': ['poisoned', 'toxic', 'nuclear'],\n",
        "    'POISON_ITEM': ['apple', 'pear', 'banana', 'chocolate']\n",
        "}\n"
      ],
      "metadata": {
        "id": "FcEZLqP9iuaF"
      },
      "execution_count": 111,
      "outputs": []
    },
    {
      "cell_type": "markdown",
      "source": [
        "2.2 Confrontation, Act-Two Grammar"
      ],
      "metadata": {
        "id": "SSDHJzSx49mR"
      }
    },
    {
      "cell_type": "code",
      "source": [],
      "metadata": {
        "id": "QeDkz-zG49NQ"
      },
      "execution_count": null,
      "outputs": []
    },
    {
      "cell_type": "markdown",
      "source": [
        "2.3 Resolution, Act-Three Grammar"
      ],
      "metadata": {
        "id": "KVtmoXbH5Dbc"
      }
    },
    {
      "cell_type": "markdown",
      "source": [
        "2.4 Generate function to recursively generate sentences"
      ],
      "metadata": {
        "id": "FXvuJOQx5vXG"
      }
    },
    {
      "cell_type": "code",
      "source": [
        "#Generate function referenced from week 3 lab\n",
        "def generate(symbol, grammar):\n",
        "    \"\"\"\n",
        "    Recursively generate a string from the grammar starting with the given symbol.\n",
        "\n",
        "    Args:\n",
        "        symbol: The symbol to start generating from\n",
        "\n",
        "    Returns:\n",
        "        A string generated from the grammar rules\n",
        "    \"\"\"\n",
        "    if isinstance(symbol, str) and symbol in grammar:\n",
        "        if(symbol == 'CONFLICT'): #if the symbol is conflict, do not randomly choose a production. Instead follow the proper path to describe the storyline.\n",
        "          if(conflict == 'kidnapping'):\n",
        "            production = random.choice(grammar['KIDNAP'])\n",
        "          elif(conflict == 'poisoning'):\n",
        "            production = random.choice(grammar['POISON'])\n",
        "          elif(conflict == 'married_off'):\n",
        "            production = random.choice(grammar['MARRIED'])\n",
        "        else:\n",
        "          production = random.choice(grammar[symbol])\n",
        "        if isinstance(production, list):\n",
        "          return ' '.join(generate(sym, grammar) for sym in production)\n",
        "        return production\n",
        "    return symbol"
      ],
      "metadata": {
        "id": "Xsw41Z5ewM0J"
      },
      "execution_count": 102,
      "outputs": []
    },
    {
      "cell_type": "markdown",
      "source": [
        "#Section 3: Story Generation"
      ],
      "metadata": {
        "id": "YOL30RoK5zRW"
      }
    },
    {
      "cell_type": "markdown",
      "source": [
        "3.1 Generate and print the story\n",
        "\n",
        "Re-run this section to generate more stories."
      ],
      "metadata": {
        "id": "hTuxQfvM54TR"
      }
    },
    {
      "cell_type": "code",
      "source": [
        "conflict = 'poisoning'\n",
        "\n",
        "\n",
        "\n",
        "print(\"Generated sentences:\\n\")\n",
        "for i in range(5):\n",
        "  protagonist = random.choice(protag_list)\n",
        "  antagonist = random.choice(antag_list)\n",
        "  love_interest = random.choice(interest_list)\n",
        "  setting = random.choice(setting_list)\n",
        "  #conflict = random.choice(conflict_list)\n",
        "  resolution = random.choice(resolution_list)\n",
        "  print(f\"{i+1}. {generate('S', starting_grammar)}. \\n{generate('S', villian_intro_grammar)}. \\n{generate('S', conflict_intro_grammar)}.\")"
      ],
      "metadata": {
        "colab": {
          "base_uri": "https://localhost:8080/"
        },
        "id": "FMTlHPCWmvtf",
        "outputId": "c1bf3a3f-d9c1-49ec-b6a5-3d1f8302f928"
      },
      "execution_count": 112,
      "outputs": [
        {
          "output_type": "stream",
          "name": "stdout",
          "text": [
            "Generated sentences:\n",
            "\n",
            "1. Once upon a time, a healer resided at a city called Silverstone Cove. The healer was in love with the striking emissary. \n",
            "The ugly conqueror stayed at the city too, often annoying the healer. \n",
            "The healer wooed the emissary but struggled to at the hands of the conqueror, who infected them with a poisoned apple.\n",
            "2. A long, long time ago, a brave healer lived at a city called Lavender Creek. The healer desired the beautiful emissary. \n",
            "A evil conqueror lived at the city too, frequently stalking the healer. \n",
            "The healer chased the emissary but struggled to at the hands of the conqueror, who used a poisoned banana to poison the emissary.\n",
            "3. Far far away, the healer lived at a city named Crystal Falls. The healer was in lust with the dashing emissary. \n",
            "The scary conqueror resided at the city too, often plotting methods to harm the healer. \n",
            "The healer couldn't have the emissary at the hands of the conqueror, who used a nuclear banana to infect the emissary.\n",
            "4. A long, long time ago, the healer stayed in a city named Rosebrook. The healer was in heaven with the striking emissary. \n",
            "A scary conqueror lived in a burrow down the hill often plotting methods to terrorize the healer. \n",
            "The healer didn't have the emissary because of the conqueror, who infected him with a poisoned banana.\n",
            "5. Far far away, the healer stayed at a city named Sunset Valley. The healer was in love with the stunning emissary. \n",
            "The scary conqueror stayed at the city too, frequently bothering the healer. \n",
            "The healer chased the emissary but was unable to at the hands of the conqueror, who used a nuclear banana to infect the emissary.\n"
          ]
        }
      ]
    },
    {
      "cell_type": "markdown",
      "source": [
        "#References:\n",
        "\n",
        "Can you generate a list of 20 short story characters? They should be general words in lowercase with one title only, and the genre is romance. Additionally, format them into comma separated values, and surround each name with apostrophe characters.\n",
        "\n",
        "Sure! Here's a list of 20 romance-themed short story characters in the format you requested:\n",
        "\n",
        "'title', 'dreamer', 'librarian', 'widow', 'artist', 'student', 'healer', 'chef', 'musician', 'architect', 'photographer', 'writer', 'runner', 'scientist', 'gardener', 'nurse', 'poet', 'detective', 'lawyer', 'teacher'\n",
        "\n",
        "Each name is surrounded by apostrophes and formatted as comma-separated values. Let me know if you need any changes!\n",
        "\n",
        "2025-02-04\n",
        "\n",
        "can you generate a list of fake town names? they should be formatted in comma-separated values, with apostrophes surrounding each word. This is for a romance short story.\n",
        "\n",
        "Sure! Here's a list of fictional town names formatted in CSV style with apostrophes:\n",
        "\n",
        "'Rosebrook', 'Silverwood', 'Amberfield', 'Elderstone', 'Whispering Pines', 'Maple Haven', 'Crystal Falls', 'Havenridge', 'Bridlewood', 'Lavender Creek', 'Moonstone Bay', 'Willowbrook', 'Golden Oaks', 'Thornfield', 'Bluebell Hollow', 'Winter's Edge', 'Sunset Valley', 'Pinehill', 'Silverstone Cove', 'Cedar Ridge', 'Hollyview', 'Morningstar Ridge', 'Brookshire', 'Seabreeze Cove', 'Starling Springs', 'Sable Creek'\n",
        "\n",
        "These names should work well for a romance story, giving off a cozy and mysterious vibe. Let me know if you need any other variations!\n",
        "\n",
        "2025-02-04\n",
        "\n",
        "give me 20 names for a love interest in a romance short story. they should be generic nouns like occupations or titles, formatted in lowercase, comma separated values, and with apostrophes surround each one.\n",
        "\n",
        "'sailor', 'gardener', 'baker', 'architect', 'doctor', 'teacher', 'librarian', 'photographer', 'chef', 'writer', 'musician', 'actor', 'nurse', 'artist', 'scientist', 'mechanic', 'firefighter', 'designer', 'waiter', 'engineer'\n",
        "\n",
        "can you make them more interesting?\n",
        "\n",
        "'sunflower', 'chronicler', 'dreamer', 'wanderer', 'bard', 'phoenix', 'scribe', 'captain', 'alchemist', 'nomad', 'mystic', 'guardian', 'orphan', 'illusionist', 'tinker', 'hermit', 'sailmistress', 'emissary', 'starcatcher', 'seraph'\n",
        "\n",
        "2025-02-05\n",
        "\n",
        "give me 20 names for an antagonist in a romance short story. they should be generic nouns like occupations or titles, formatted in lowercase, comma separated values, and with apostrophes surround each one.\n",
        "\n",
        "Here are 20 antagonist names for your romance short story:\n",
        "\n",
        "'bartender', 'doctor', 'lawyer', 'professor', 'CEO', 'detective', 'artist', 'chef', 'soldier', 'writer', 'therapist', 'musician', 'scientist', 'pilot', 'billionaire', 'nurse', 'manager', 'librarian', 'judge', 'teacher'\n",
        "\n",
        "can you make them more interesting?\n",
        "\n",
        "Sure! Here's a more interesting list of antagonist names with a bit more flair:\n",
        "\n",
        "'villain', 'maven', 'suit', 'rebel', 'tycoon', 'baron', 'strategist', 'maverick', 'conqueror', 'puppetmaster', 'oracle', 'outlaw', 'vixen', 'schemer', 'enforcer', 'sovereign', 'manipulator', 'duelist', 'phantom', 'diplomat'"
      ],
      "metadata": {
        "id": "_H3bZVnJruM2"
      }
    },
    {
      "cell_type": "markdown",
      "source": [],
      "metadata": {
        "id": "gn5ernytun7p"
      }
    }
  ]
}