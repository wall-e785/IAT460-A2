{
  "nbformat": 4,
  "nbformat_minor": 0,
  "metadata": {
    "colab": {
      "provenance": [],
      "authorship_tag": "ABX9TyOGC2cYrEqBgWQNYwAm7zdA",
      "include_colab_link": true
    },
    "kernelspec": {
      "name": "python3",
      "display_name": "Python 3"
    },
    "language_info": {
      "name": "python"
    }
  },
  "cells": [
    {
      "cell_type": "markdown",
      "metadata": {
        "id": "view-in-github",
        "colab_type": "text"
      },
      "source": [
        "<a href=\"https://colab.research.google.com/github/wall-e785/IAT460-A2/blob/main/StoryGenerator.ipynb\" target=\"_parent\"><img src=\"https://colab.research.google.com/assets/colab-badge.svg\" alt=\"Open In Colab\"/></a>"
      ]
    },
    {
      "cell_type": "markdown",
      "source": [
        "#Romance Story Generator\n",
        "\n",
        "This rule-based system generates a short (~100 words) three-act love story using generative grammar rulesets. The main structure follows a setup, confrontation, and resolution.\n",
        "\n",
        "**To run this generator, please run each code block in order. To generate new stories, re-run section 3.1. If you want more variance by updating the pre-set variables, re-run section 1.2 before re-running section 3.1**\n",
        "\n",
        "**Example Story:**\n",
        "\n",
        "Once upon a time there was a prince who fell in love with a princess.\n",
        "However, the prince could not meet the princess as she was locked in a tower.\n",
        "\n",
        "One day, the prince decided to try to request the princess. He rode his horse and headed to the tower.\n",
        "Once he arrived, he exclaimed \"Princess, please let me in!\"\n",
        "The princess replied \"I cannot, I am trapped by the evil witch.\"\n",
        "\n",
        "The witch then appeared and said \"You can't save her you fool!\"\n",
        "The prince was able to defeat the witch.\n",
        "\n",
        "The princess was saved and they lived happily ever after.\n"
      ],
      "metadata": {
        "id": "7vsKJC0qf5Kf"
      }
    },
    {
      "cell_type": "markdown",
      "source": [
        "#Section 1: Set-Up"
      ],
      "metadata": {
        "id": "3KSBA7Hw5Nd-"
      }
    },
    {
      "cell_type": "markdown",
      "source": [
        "1.1 Import Libraries"
      ],
      "metadata": {
        "id": "uqcYTw225c6X"
      }
    },
    {
      "cell_type": "code",
      "source": [
        "#import libraries\n",
        "import random"
      ],
      "metadata": {
        "id": "dzBrKLCkiwFn"
      },
      "execution_count": 1,
      "outputs": []
    },
    {
      "cell_type": "markdown",
      "source": [
        "1.2 Randomly Select Pre-Set Variables\n",
        "\n",
        "Re-run this section later on for different characters, settings, and conflicts for the generator."
      ],
      "metadata": {
        "id": "C7osEpYp5eY6"
      }
    },
    {
      "cell_type": "code",
      "source": [
        "#start by choosing the names of characters randomly to be saved\n",
        "#list generated using an LLM shown in prompt 4.1 in references\n",
        "protag_list = ['noble', 'dreamer', 'librarian', 'widow', 'artist', 'student', 'healer', 'chef', 'musician', 'architect', 'photographer', 'writer', 'runner', 'scientist', 'gardener', 'nurse', 'poet', 'detective', 'lawyer', 'teacher']\n",
        "protagonist = random.choice(protag_list)\n",
        "\n",
        "#list generated using an LLM shown in prompt 4.4 in references\n",
        "antag_list = ['witch', 'maven', 'monster', 'rebel', 'tycoon', 'baron', 'strategist', 'conqueror', 'puppetmaster', 'oracle', 'outlaw', 'schemer', 'enforcer', 'sovereign', 'evil queen', 'evil king', 'duelist', 'phantom', 'diplomat']\n",
        "antagonist = random.choice(antag_list)\n",
        "\n",
        "#list generated using an LLM shown in prompt 4.3 in references\n",
        "interest_list = ['prince', 'princess', 'healer', 'dreamer', 'wanderer', 'bard', 'jester', 'scribe', 'captain', 'alchemist', 'nomad', 'mystic', 'guardian', 'orphan', 'illusionist', 'tinker', 'hermit', 'sailmistress', 'emissary', 'starcatcher', 'seraph']\n",
        "love_interest = random.choice(interest_list)\n",
        "\n",
        "#choose the main setting\n",
        "setting_list = ['castle', 'village', 'city']\n",
        "setting = random.choice(setting_list)\n",
        "\n",
        "#choose the main conflict\n",
        "conflict_list = ['kidnapping', 'poisoning', 'married_off']\n",
        "conflict = random.choice(conflict_list)\n",
        "\n",
        "resolution_list = ['battle', 'redemption', 'exiled']\n",
        "resolution = random.choice(resolution_list)\n"
      ],
      "metadata": {
        "id": "mgxu8b_B5js5"
      },
      "execution_count": 2,
      "outputs": []
    },
    {
      "cell_type": "markdown",
      "source": [
        "#Section 2: Grammar Set-Up"
      ],
      "metadata": {
        "id": "R8_rP0_K5lVo"
      }
    },
    {
      "cell_type": "markdown",
      "source": [
        "2.1 Setup, Act-One Grammar"
      ],
      "metadata": {
        "id": "7jGuY31A5o2L"
      }
    },
    {
      "cell_type": "code",
      "source": [
        "#grammar for starting sentence\n",
        "starting_grammar = {\n",
        "    #non-terminal symbols\n",
        "    'S': [['IP', 'NP', 'VP', 'NP_TWO', 'LS']],\n",
        "    'LS': [['The', protagonist, 'V_LOVE', 'the', 'Adj_LOVE', love_interest], ['The', protagonist, 'was in', 'V_LOVE_TWO', 'the', 'Adj_LOVE', love_interest]],#love interst introduction sentence\n",
        "    'NP': [['Det', protagonist], ['Det', 'Adj', protagonist]],\n",
        "    'VP': [['V_ONE', 'P', 'a', setting]],\n",
        "    'NP_TWO': [['V_TWO', 'LOC_NAMES']],\n",
        "\n",
        "    #terminal symbols\n",
        "    'IP': ['Once upon a time,', 'A long, long time ago,', 'Far far away,', 'A few years ago,'], #intro phrases to start the story with\n",
        "    'Det': ['the', 'a'],\n",
        "    'Adj': ['good-looking', 'brave', 'wise', 'timid'],\n",
        "    'Adj_LOVE': ['beautiful', 'dashing', 'fair', 'stunning', 'striking'],\n",
        "    'P': ['in', 'at'],\n",
        "    'V_ONE': ['lived', 'resided', 'stayed'],\n",
        "    'V_TWO': ['called', 'named'],\n",
        "    'V_LOVE': ['loved', 'fancied', 'wanted', 'desired', 'crushed on'],\n",
        "    'V_LOVE_TWO': ['love with', 'lust with', 'heaven with'],\n",
        "\n",
        "    #list generated using an LLM shown in prompt 4.2 in references\n",
        "    'LOC_NAMES': ['Rosebrook.', 'Silverwood.', 'Amberfield.', 'Elderstone.', 'Whispering Pines.', 'Maple Haven.', 'Crystal Falls.', 'Havenridge.', 'Bridlewood.', 'Lavender Creek.', 'Moonstone Bay.', 'Willowbrook.', 'Golden Oaks.', 'Thornfield.', 'Bluebell Hollow.', 'Winter\\'s Edge.', 'Sunset Valley.', 'Pinehill.', 'Silverstone Cove.', 'Cedar Ridge.', 'Hollyview.', 'Morningstar Ridge.', 'Brookshire.', 'Seabreeze Cove.', 'Starling Springs.', 'Sable Creek.']\n",
        "}\n",
        "\n",
        "#grammar for introducing the villian\n",
        "villian_intro_grammar = {\n",
        "    #non-terminal symbols\n",
        "    'S': [['ADVERB', 'Det', 'AA', antagonist, 'V_ONE', 'NEAR', 'RELATIONSHIP'], ['ADVERB', 'Det', 'AA', antagonist, 'V_ONE', 'FAR', 'RELATIONSHIP']],\n",
        "    'NEAR': [['P', 'the', setting, 'too,']], #if the antagonist lives nearby\n",
        "    'FAR': [['P', 'a', 'ANTAG_HOME', 'ANTAG_DISTANCE']], #if the antagonist lives far away\n",
        "    'RELATIONSHIP': [['KNOWN'], ['UNKNOWN']], #determine the relationship of antag to protag\n",
        "    'KNOWN': [['FREQUENCY', 'Adj_ONE', 'the', protagonist]], #if the antagonist is known to the protagonist\n",
        "    'UNKNOWN': [['FREQUENCY', 'Adj_TWO', 'N', 'V_TWO', protagonist]], #if the antagonist is unknown to the protagonist\n",
        "\n",
        "    #terminal symbols\n",
        "    'ADVERB': ['However,', 'Unfortunately,', 'Unluckily,'],\n",
        "    'Det': ['the', 'a'], #capital letter dets\n",
        "    'AA': ['ugly', 'evil', 'scary'], #antagonist adjectives\n",
        "    'V_ONE': ['lived', 'resided', 'stayed'],\n",
        "    'P': ['in', 'at'],\n",
        "    'ANTAG_HOME': ['cave', 'castle', 'burrow'],\n",
        "    'ANTAG_DISTANCE': ['far away', 'nearby', 'down the hill', 'up the mountain', 'in the valley'],\n",
        "    'FREQUENCY': ['often', 'occasionally', 'frequently'],\n",
        "    'Adj_ONE': ['stalking', 'bothering', 'annoying'],\n",
        "    'Adj_TWO': ['plotting', 'brainstorming', 'planning'],\n",
        "    'N': ['ways to', 'means to', 'methods to'],\n",
        "    'V_TWO': ['terrorize the', 'harm the']\n",
        "}\n",
        "\n",
        "#grammar set-up for conflict\n",
        "conflict_intro_grammar = {\n",
        "    #non-terminal symbols\n",
        "    'S': [['The', protagonist, 'CONFLICT']],\n",
        "    'CONFLICT': ['KIDNAP', 'POISON', 'MARRIED'],\n",
        "    'KIDNAP': [['VP', 'who', 'Adj_KIDNAP', 'Pronoun']],\n",
        "    'POISON': [['VP', 'who', 'Adj_POISON', 'Pronoun', 'with a', 'V_POISON', 'POISON_ITEM'], ['VP', 'who used a', 'V_POISON', 'POISON_ITEM', 'to', 'AdV_POISON', 'the', love_interest]],\n",
        "    'MARRIED': [['VP', 'who was', 'Adj_MARRIED', 'to', 'Adj_UPSET', love_interest]],\n",
        "    'VP': [['V_UNABLE', 'have', 'the', love_interest, 'Det', 'the', antagonist + ','], ['Adj_CHASE', 'the', love_interest, 'but', 'Adj_FAIL', 'Det', 'the', antagonist + ',']],\n",
        "\n",
        "    #terminal symbols\n",
        "    'V_UNABLE': ['couldn\\'t', 'didn\\'t'],\n",
        "    'Adj_CHASE': ['chased', 'pursued', 'wooed'],\n",
        "    'Det': ['because of', 'due to', 'at the hands of'],\n",
        "    'Adj_FAIL': ['failed to', 'struggled to', 'was unable to'],\n",
        "    'Adj_KIDNAP': ['kidnapped', 'stole', 'abducted', 'took away', 'hid away'],\n",
        "    'AdV_POISON': ['poison', 'infect'],\n",
        "    'Adj_POISON': ['poisoned', 'infected'],\n",
        "    'Adj_MARRIED': ['married', 'engaged', 'commited'],\n",
        "    'Adj_UPSET': ['the unwilling', 'the unloved', 'the unhappy'],\n",
        "    'Pronoun': ['him', 'her', 'them'],\n",
        "    'V_POISON': ['poisoned', 'toxic', 'nuclear'],\n",
        "    'POISON_ITEM': ['apple', 'pear', 'banana', 'chocolate']\n",
        "}\n"
      ],
      "metadata": {
        "id": "FcEZLqP9iuaF"
      },
      "execution_count": 3,
      "outputs": []
    },
    {
      "cell_type": "markdown",
      "source": [
        "2.2 Confrontation, Act-Two Grammar"
      ],
      "metadata": {
        "id": "SSDHJzSx49mR"
      }
    },
    {
      "cell_type": "code",
      "source": [
        "#grammar for the main conflict (based on the pre-determined choice)\n",
        "conflict_setup_grammar = {\n",
        "    #non-terminal symbols\n",
        "    'S': [['Adj_BRAVE', 'the', protagonist, 'V_FAST', 'to', 'V_FIND', 'the', love_interest], ['The', 'love_interest', 'Adj_REQUIRE', 'the', protagonist, 'to', 'V_FIND', 'them from the', antagonist]],\n",
        "\n",
        "    #terminal symbols\n",
        "    'Adj_BRAVE': ['Bravely,', 'Heroicly,', 'Desperately,'],\n",
        "    'Adj_REQUIRE': ['needed', 'required'],\n",
        "    'V_FAST': ['raced', 'rushed', 'hurried'],\n",
        "    'V_FIND': ['find', 'save', 'rescue', 'help']\n",
        "}\n",
        "\n",
        "conflict_grammar = {\n",
        "    #non-terminal smymbols\n",
        "    'S': [['CLIMAX']],\n",
        "    'CLIMAX': [['BATTLE'], ['REDEMPTION'], ['EXILED']],\n",
        "    'BATTLE': [['To decide who wins the', love_interest + '\\'s', 'N_LOVE', 'the', protagonist, 'and', antagonist, 'V_START', 'a', 'Adj_LONG', 'N_FIGHT', 'BATTLE_RESULTS']],\n",
        "    'BATTLE_RESULTS': [['The', protagonist, 'was victorious']],\n",
        "    'REDEMPTION': ['Once the', protagonist, 'met with the', antagonist],\n",
        "    'EXILED': [],\n",
        "\n",
        "    #terminal symbols\n",
        "    'N_LOVE':['love', 'heart'],\n",
        "    'V_START':['engaged in', 'began', 'started'],\n",
        "    'Adj_LONG': ['long', 'lengthy', 'difficult'],\n",
        "    'N_FIGHT': ['fight', 'battle', 'duel']\n",
        "}"
      ],
      "metadata": {
        "id": "QeDkz-zG49NQ"
      },
      "execution_count": 14,
      "outputs": []
    },
    {
      "cell_type": "markdown",
      "source": [
        "2.3 Resolution, Act-Three Grammar"
      ],
      "metadata": {
        "id": "KVtmoXbH5Dbc"
      }
    },
    {
      "cell_type": "code",
      "source": [
        "#grammar for the concluding sentence (good or bad path)\n",
        "conclusion_grammar = {\n",
        "    #non-terminal symbols\n",
        "    'S': [['GOOD']],\n",
        "    'GOOD': [['The', protagonist, 'and', love_interest, 'LIVED']],\n",
        "    'LIVED': [['resided', 'Adj_HAPPY', 'EVER_AFTER', 'END'], ['lived', 'Adj_HAPPY', 'EVER_AFTER', 'END'], ['thrived', 'Adj_HAPPY', 'EVER_AFTER', 'END']],\n",
        "\n",
        "    #terminal symbols\n",
        "    'Adj_HAPPY': ['happily', 'joyfully', 'gleefully', 'joyously', 'blissfully', 'lovingly'],\n",
        "    'EVER_AFTER': ['ever after.', 'for the rest of their lives.', 'forever and ever.', 'together as one.'],\n",
        "    'END': ['\\nThe End', '\\nFin', '\\n...The End?', '\\nEnd']\n",
        "}"
      ],
      "metadata": {
        "id": "IX3kAFyOLgXo"
      },
      "execution_count": 10,
      "outputs": []
    },
    {
      "cell_type": "markdown",
      "source": [
        "2.4 Generate function to recursively generate sentences"
      ],
      "metadata": {
        "id": "FXvuJOQx5vXG"
      }
    },
    {
      "cell_type": "code",
      "source": [
        "#Generate function referenced from week 3 lab\n",
        "def generate(symbol, grammar):\n",
        "    \"\"\"\n",
        "    Recursively generate a string from the grammar starting with the given symbol.\n",
        "\n",
        "    Args:\n",
        "        symbol: The symbol to start generating from\n",
        "\n",
        "    Returns:\n",
        "        A string generated from the grammar rules\n",
        "    \"\"\"\n",
        "    if isinstance(symbol, str) and symbol in grammar:\n",
        "        if(symbol == 'CONFLICT'): #if the symbol is conflict, do not randomly choose a production. Instead follow the proper path to describe the storyline.\n",
        "          if(conflict == 'kidnapping'):\n",
        "            production = random.choice(grammar['KIDNAP'])\n",
        "          elif(conflict == 'poisoning'):\n",
        "            production = random.choice(grammar['POISON'])\n",
        "          elif(conflict == 'married_off'):\n",
        "            production = random.choice(grammar['MARRIED'])\n",
        "        elif(symbol == 'CLIMAX'): #if the symbol is climax, do not randomly choose a production. Instead follow the proper path to describe the climax.\n",
        "          if(resolution == 'battle'):\n",
        "            production = random.choice(grammar['BATTLE'])\n",
        "          elif(resolution == 'redemption'):\n",
        "            production = random.choice(grammar['REDEMPTION'])\n",
        "          elif(resolution == 'exiled'):\n",
        "            production = random.choice(grammar['EXILED'])\n",
        "        else:\n",
        "          production = random.choice(grammar[symbol])\n",
        "        if isinstance(production, list):\n",
        "          return ' '.join(generate(sym, grammar) for sym in production)\n",
        "        return production\n",
        "    return symbol"
      ],
      "metadata": {
        "id": "Xsw41Z5ewM0J"
      },
      "execution_count": 11,
      "outputs": []
    },
    {
      "cell_type": "markdown",
      "source": [
        "#Section 3: Story Generation"
      ],
      "metadata": {
        "id": "YOL30RoK5zRW"
      }
    },
    {
      "cell_type": "markdown",
      "source": [
        "3.1 Generate and print the story\n",
        "\n",
        "Re-run this section to generate more stories."
      ],
      "metadata": {
        "id": "hTuxQfvM54TR"
      }
    },
    {
      "cell_type": "code",
      "source": [
        "resolution = 'battle'\n",
        "print(\"Generated sentences:\\n\")\n",
        "for i in range(3):\n",
        "  print(f\"{i+1}. {generate('S', starting_grammar)}. \\n{generate('S', villian_intro_grammar)}. \\n{generate('S', conflict_intro_grammar)}. \\n{generate('S', conflict_setup_grammar)}! \\n{generate('S', conflict_grammar)}. \\n{generate('S', conclusion_grammar)}\")"
      ],
      "metadata": {
        "colab": {
          "base_uri": "https://localhost:8080/"
        },
        "id": "FMTlHPCWmvtf",
        "outputId": "be2bbc6c-3bc9-4b8d-8270-7fcc0a8b5de2"
      },
      "execution_count": 21,
      "outputs": [
        {
          "output_type": "stream",
          "name": "stdout",
          "text": [
            "Generated sentences:\n",
            "\n",
            "1. A long, long time ago, the detective lived at a village called Moonstone Bay. The detective fancied the beautiful starcatcher. \n",
            "However, a ugly conqueror stayed at the village too, often brainstorming means to terrorize the detective. \n",
            "The detective couldn't have the starcatcher because of the conqueror, who kidnapped him. \n",
            "Bravely, the detective raced to help the starcatcher! \n",
            "To decide who wins the starcatcher's love the detective and conqueror engaged in a long battle The detective was victorious. \n",
            "The detective and starcatcher thrived gleefully for the rest of their lives. \n",
            "Fin\n",
            "2. A few years ago, the good-looking detective stayed in a village called Golden Oaks. The detective was in lust with the fair starcatcher. \n",
            "Unluckily, the evil conqueror resided at a cave far away occasionally plotting ways to terrorize the detective. \n",
            "The detective didn't have the starcatcher because of the conqueror, who abducted them. \n",
            "The love_interest needed the detective to rescue them from the conqueror! \n",
            "To decide who wins the starcatcher's heart the detective and conqueror began a difficult battle The detective was victorious. \n",
            "The detective and starcatcher lived joyfully for the rest of their lives. \n",
            "End\n",
            "3. A few years ago, the timid detective resided at a village named Whispering Pines. The detective loved the fair starcatcher. \n",
            "Unfortunately, the scary conqueror lived at a cave up the mountain occasionally planning ways to terrorize the detective. \n",
            "The detective didn't have the starcatcher at the hands of the conqueror, who abducted them. \n",
            "The love_interest required the detective to rescue them from the conqueror! \n",
            "To decide who wins the starcatcher's love the detective and conqueror engaged in a lengthy duel The detective was victorious. \n",
            "The detective and starcatcher resided joyously forever and ever. \n",
            "Fin\n"
          ]
        }
      ]
    },
    {
      "cell_type": "markdown",
      "source": [
        "#Section 4: References\n",
        "\n",
        "**This story generator used LLM ChatGPT to generate possible character and setting options.**\n",
        "\n",
        "OpenAI. (2025). *ChatGPT* (Mar 14 Version) [Large Language Model]. https://chatgpt.com/\n",
        "\n",
        "\n",
        "**4.1 Prompt**\n",
        "When prompted with \"Can you generate a list of 20 short story characters? They should be general words in lowercase with one title only, and the genre is romance. Additionally, format them into comma separated values, and surround each name with apostrophe characters.\", the ChatGPT generated chat responded with:\n",
        "\n",
        "\"Sure! Here's a list of 20 romance-themed short story characters in the format you requested:\n",
        "\n",
        "'title', 'dreamer', 'librarian', 'widow', 'artist', 'student', 'healer', 'chef', 'musician', 'architect', 'photographer', 'writer', 'runner', 'scientist', 'gardener', 'nurse', 'poet', 'detective', 'lawyer', 'teacher'\n",
        "\n",
        "Each name is surrounded by apostrophes and formatted as comma-separated values. Let me know if you need any changes!\"\n",
        "\n",
        "(OpenAI, February 4, 2025)\n",
        "\n",
        "**4.2 Prompt**\n",
        "When prompted with \"can you generate a list of fake town names? they should be formatted in comma-separated values, with apostrophes surrounding each word. This is for a romance short story.\", the ChatGPT generated chat responded with:\n",
        "\n",
        "\"Sure! Here's a list of fictional town names formatted in CSV style with apostrophes:\n",
        "\n",
        "'Rosebrook', 'Silverwood', 'Amberfield', 'Elderstone', 'Whispering Pines', 'Maple Haven', 'Crystal Falls', 'Havenridge', 'Bridlewood', 'Lavender Creek', 'Moonstone Bay', 'Willowbrook', 'Golden Oaks', 'Thornfield', 'Bluebell Hollow', 'Winter's Edge', 'Sunset Valley', 'Pinehill', 'Silverstone Cove', 'Cedar Ridge', 'Hollyview', 'Morningstar Ridge', 'Brookshire', 'Seabreeze Cove', 'Starling Springs', 'Sable Creek'\n",
        "\n",
        "These names should work well for a romance story, giving off a cozy and mysterious vibe. Let me know if you need any other variations!\"\n",
        "\n",
        "(OpenAI, February 4, 2025)\n",
        "\n",
        "**4.3 Prompt**\n",
        "When prompted with \"give me 20 names for a love interest in a romance short story. they should be generic nouns like occupations or titles, formatted in lowercase, comma separated values, and with apostrophes surround each one.\", the ChatGPT generated chat responded with:\n",
        "\n",
        "\"'sailor', 'gardener', 'baker', 'architect', 'doctor', 'teacher', 'librarian', 'photographer', 'chef', 'writer', 'musician', 'actor', 'nurse', 'artist', 'scientist', 'mechanic', 'firefighter', 'designer', 'waiter', 'engineer'\"\n",
        "\n",
        "When further prompted with \"can you make them more interesting?\", the ChatGPT generated chat responded with:\n",
        "\n",
        "\"'sunflower', 'chronicler', 'dreamer', 'wanderer', 'bard', 'phoenix', 'scribe', 'captain', 'alchemist', 'nomad', 'mystic', 'guardian', 'orphan', 'illusionist', 'tinker', 'hermit', 'sailmistress', 'emissary', 'starcatcher', 'seraph'\"\n",
        "\n",
        "(OpenAI, February 5, 2025)\n",
        "\n",
        "**4.4 Prompt**\n",
        "When prompted with \"give me 20 names for an antagonist in a romance short story. they should be generic nouns like occupations or titles, formatted in lowercase, comma separated values, and with apostrophes surround each one.\", the ChatGPT generated chat responded with:\n",
        "\n",
        "\"Here are 20 antagonist names for your romance short story:\n",
        "\n",
        "'bartender', 'doctor', 'lawyer', 'professor', 'CEO', 'detective', 'artist', 'chef', 'soldier', 'writer', 'therapist', 'musician', 'scientist', 'pilot', 'billionaire', 'nurse', 'manager', 'librarian', 'judge', 'teacher'\"\n",
        "\n",
        "When further prompted with \"can you make them more interesting?\", the ChatGPT generated chat responded with:\n",
        "\n",
        "\"Sure! Here's a more interesting list of antagonist names with a bit more flair:\n",
        "\n",
        "'villain', 'maven', 'suit', 'rebel', 'tycoon', 'baron', 'strategist', 'maverick', 'conqueror', 'puppetmaster', 'oracle', 'outlaw', 'vixen', 'schemer', 'enforcer', 'sovereign', 'manipulator', 'duelist', 'phantom', 'diplomat'\"\n",
        "\n",
        "(OpenAI, February 5, 2025)\n"
      ],
      "metadata": {
        "id": "_H3bZVnJruM2"
      }
    }
  ]
}